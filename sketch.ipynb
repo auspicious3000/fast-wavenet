{
 "cells": [
  {
   "cell_type": "code",
   "execution_count": null,
   "metadata": {
    "collapsed": false
   },
   "outputs": [],
   "source": [
    "from time import time\n",
    "\n",
    "import tensorflow as tf\n",
    "\n",
    "from wavenet.utils import make_batch, mu_law_bins\n",
    "from wavenet.models import Model, Generator\n",
    "\n",
    "from IPython.display import Audio\n",
    "\n",
    "import numpy as np\n",
    "\n",
    "inputs, targets = make_batch('assets/voice.wav')\n",
    "num_time_samples = inputs.shape[1]\n",
    "num_channels = 1\n",
    "gpu_fraction = 1.0\n",
    "\n",
    "model = Model(num_time_samples=num_time_samples,\n",
    "              num_channels=num_channels,\n",
    "              gpu_fraction=gpu_fraction)\n",
    "\n",
    "Audio(inputs.reshape(inputs.shape[1]), rate=44100)"
   ]
  },
  {
   "cell_type": "code",
   "execution_count": null,
   "metadata": {
    "collapsed": false
   },
   "outputs": [],
   "source": [
    "tic = time()\n",
    "model.train(inputs, targets)\n",
    "toc = time()\n",
    "\n",
    "# save the variable to disk\n",
    "save_path = model.saver.save(model.sess, \"/tmp/model.ckpt\")\n",
    "print(\"Model saved in file: %s\" % save_path)\n",
    "\n",
    "print('Training took {} seconds.'.format(toc-tic))"
   ]
  },
  {
   "cell_type": "code",
   "execution_count": null,
   "metadata": {
    "collapsed": false
   },
   "outputs": [],
   "source": [
    "# Restore variables from disk.\n",
    "model.saver.restore(model.sess, \"/tmp/model.ckpt\")\n",
    "\n",
    "generator = Generator(model)\n",
    "\n",
    "# Get first sample of input\n",
    "input_ = inputs[:, 0:1, 0]\n",
    "\n",
    "tic = time()\n",
    "predictions = generator.run(input_, 32000)\n",
    "toc = time()\n",
    "print('Generating took {} seconds.'.format(toc-tic))"
   ]
  },
  {
   "cell_type": "code",
   "execution_count": null,
   "metadata": {
    "collapsed": false
   },
   "outputs": [],
   "source": [
    "generator = Generator(model)\n",
    "\n",
    "# Get first sample of input\n",
    "input_ = inputs[:, 0:1, 0]\n",
    "\n",
    "check_train = model.sess.run(model.outputs, feed_dict={model.inputs:inputs, model.targets:targets})\n",
    "#check_test = generator.model.sess.run(generator.outputs, feed_dict={generator.inputs:input_})"
   ]
  },
  {
   "cell_type": "code",
   "execution_count": null,
   "metadata": {
    "collapsed": false
   },
   "outputs": [],
   "source": [
    "## generate with longer sequence given\n",
    "\n",
    "# Restore variables from disk.\n",
    "model.saver.restore(model.sess, \"/tmp/model.ckpt\")\n",
    "\n",
    "generator = Generator(model)\n",
    "\n",
    "# flush the states\n",
    "for t in range(10000):\n",
    "    check_test = generator.model.sess.run([generator.out_ops], feed_dict={generator.inputs:inputs[:, t:t+1, 0]})\n",
    "\n",
    "# start generating\n",
    "tic = time()\n",
    "predictions = generator.run(inputs[:, t+1:t+2, 0], 32000)\n",
    "toc = time()\n",
    "print('Generating took {} seconds.'.format(toc-tic))"
   ]
  },
  {
   "cell_type": "code",
   "execution_count": null,
   "metadata": {
    "collapsed": false
   },
   "outputs": [],
   "source": [
    "Audio(predictions, rate=44100)"
   ]
  },
  {
   "cell_type": "code",
   "execution_count": null,
   "metadata": {
    "collapsed": false
   },
   "outputs": [],
   "source": [
    "inputs, targets = make_batch('assets/voice.wav')\n",
    "import matplotlib.pyplot as plt\n",
    "plt.plot(targets[0, :])\n",
    "plt.show()"
   ]
  },
  {
   "cell_type": "code",
   "execution_count": null,
   "metadata": {
    "collapsed": false
   },
   "outputs": [],
   "source": [
    "print(generator.bins[2][None, None])"
   ]
  }
 ],
 "metadata": {
  "kernelspec": {
   "display_name": "Python 2",
   "language": "python",
   "name": "python2"
  },
  "language_info": {
   "codemirror_mode": {
    "name": "ipython",
    "version": 2
   },
   "file_extension": ".py",
   "mimetype": "text/x-python",
   "name": "python",
   "nbconvert_exporter": "python",
   "pygments_lexer": "ipython2",
   "version": "2.7.6"
  }
 },
 "nbformat": 4,
 "nbformat_minor": 1
}
